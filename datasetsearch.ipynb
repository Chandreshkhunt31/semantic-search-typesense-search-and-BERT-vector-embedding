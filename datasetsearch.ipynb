{
 "cells": [
  {
   "cell_type": "code",
   "execution_count": 2,
   "metadata": {},
   "outputs": [
    {
     "data": {
      "text/plain": [
       "Dataset({\n",
       "    features: ['questions', 'is_duplicate'],\n",
       "    num_rows: 10000\n",
       "})"
      ]
     },
     "execution_count": 2,
     "metadata": {},
     "output_type": "execute_result"
    }
   ],
   "source": [
    "from datasets import load_dataset\n",
    "\n",
    "dataset = load_dataset(\"quora\", split=\"train[240000:250000]\")\n",
    "dataset"
   ]
  },
  {
   "cell_type": "code",
   "execution_count": 3,
   "metadata": {},
   "outputs": [
    {
     "name": "stdout",
     "output_type": "stream",
     "text": [
      "What is the difference with ground and without ground?\n",
      "Why do some people on QUORA ask questions that they can easily findout on Google?\n",
      "I want to buy a long fur German shephard can u suggest me where to buy I live in Srinagar ..9018328789 anyone can call me?\n",
      "What is the difference between striploin and sirloin steak?\n",
      "What is the most beautiful classical music?\n",
      "19299\n"
     ]
    }
   ],
   "source": [
    "questions = []\n",
    "\n",
    "for record in dataset['questions']:\n",
    "    questions.extend(record['text'])\n",
    "\n",
    "questions = list(set(questions))\n",
    "print('\\n'.join(questions[:5]))\n",
    "print(len(questions))"
   ]
  },
  {
   "cell_type": "code",
   "execution_count": 34,
   "metadata": {},
   "outputs": [
    {
     "name": "stdout",
     "output_type": "stream",
     "text": [
      "WARNING: No CUDA device found. Using CPU.\n"
     ]
    },
    {
     "data": {
      "text/plain": [
       "SentenceTransformer(\n",
       "  (0): Transformer({'max_seq_length': 256, 'do_lower_case': False}) with Transformer model: BertModel \n",
       "  (1): Pooling({'word_embedding_dimension': 384, 'pooling_mode_cls_token': False, 'pooling_mode_mean_tokens': True, 'pooling_mode_max_tokens': False, 'pooling_mode_mean_sqrt_len_tokens': False, 'pooling_mode_weightedmean_tokens': False, 'pooling_mode_lasttoken': False, 'include_prompt': True})\n",
       "  (2): Normalize()\n",
       ")"
      ]
     },
     "execution_count": 34,
     "metadata": {},
     "output_type": "execute_result"
    }
   ],
   "source": [
    "from sentence_transformers import SentenceTransformer\n",
    "import torch\n",
    "\n",
    "device = torch.device(\"cuda\" if torch.cuda.is_available() else \"cpu\")\n",
    "\n",
    "if device != \"cuda\":\n",
    "    print(\"WARNING: No CUDA device found. Using CPU.\")\n",
    "\n",
    "model = SentenceTransformer('all-MiniLM-L6-v2', device=device)\n",
    "model"
   ]
  },
  {
   "cell_type": "code",
   "execution_count": 5,
   "metadata": {},
   "outputs": [
    {
     "data": {
      "text/plain": [
       "array([ 3.77160013e-02,  1.54312719e-02, -5.12053333e-02,  2.37614606e-02,\n",
       "       -9.23588127e-02, -3.74537185e-02,  7.15376586e-02,  6.00062609e-02,\n",
       "       -5.67687452e-02,  5.09975627e-02, -5.91733269e-02,  7.15176910e-02,\n",
       "        4.94287647e-02,  3.07181366e-02,  5.34070982e-03,  3.29329781e-02,\n",
       "       -8.97877589e-02,  8.38545784e-02,  8.23937580e-02, -5.11909090e-02,\n",
       "       -5.47390468e-02, -7.05551207e-02, -2.13751812e-02, -5.56690581e-02,\n",
       "        8.15913454e-02,  7.65197426e-02, -1.22078126e-02, -8.89020215e-04,\n",
       "        4.43999059e-02,  2.63738981e-03, -4.25614715e-02,  1.56520084e-02,\n",
       "       -6.98529650e-03,  2.64594108e-02, -4.10793647e-02,  4.98036966e-02,\n",
       "        4.65675108e-02, -6.08673543e-02,  1.02313850e-02,  1.55912358e-02,\n",
       "       -1.03648715e-01,  9.29048434e-02, -2.61920672e-02, -7.99211413e-02,\n",
       "        6.46724775e-02,  1.13762310e-02, -9.74962953e-03, -1.46046430e-02,\n",
       "        6.61429241e-02, -3.15685378e-04, -9.06648561e-02, -1.70479398e-02,\n",
       "       -3.48122232e-02, -3.41220647e-02, -1.64150726e-02,  8.80512502e-03,\n",
       "        4.51638661e-02,  9.43227671e-03,  4.28857394e-02, -7.28010461e-02,\n",
       "       -9.20584649e-02, -8.84869695e-02, -7.03693181e-02,  2.04466116e-02,\n",
       "       -4.64950465e-02, -5.95764257e-02,  4.15157303e-02,  1.21638834e-01,\n",
       "        8.83900821e-02,  8.73070210e-03, -6.57414272e-02,  1.09777255e-02,\n",
       "       -8.41163322e-02,  4.70747314e-02,  8.26393366e-02, -7.51104876e-02,\n",
       "        9.62046534e-02, -7.71094253e-03, -5.68920001e-03, -8.20151716e-03,\n",
       "       -2.92672180e-02,  2.15864293e-02, -3.20306905e-02,  5.35131246e-02,\n",
       "        6.41421229e-02,  2.79183947e-02,  6.65713251e-02,  1.32661417e-01,\n",
       "        6.23586727e-03,  3.06224003e-02,  5.90230338e-02, -1.61630323e-03,\n",
       "       -3.03778220e-02,  6.91591874e-02,  6.43058633e-03,  5.53403012e-02,\n",
       "        1.06612807e-02, -6.78450465e-02,  3.19109373e-02,  7.30041116e-02,\n",
       "       -3.81644107e-02, -7.93591812e-02,  1.31478449e-02, -5.92941158e-02,\n",
       "       -2.35294569e-02,  1.10963639e-02,  8.03113803e-02,  5.88151850e-02,\n",
       "        5.94652258e-02, -7.54101500e-02, -4.31472920e-02,  1.33500714e-02,\n",
       "       -3.64181101e-02,  5.06065134e-03, -1.36380680e-02,  4.88979854e-02,\n",
       "        4.27258573e-02,  4.08444814e-02,  5.81462905e-02,  2.99938638e-02,\n",
       "       -8.21249466e-03,  4.61246260e-02, -1.41096553e-02,  4.24529128e-02,\n",
       "        1.30266801e-03, -4.78926934e-02, -4.54127975e-02, -5.83762286e-33,\n",
       "        1.78689323e-03,  2.73612197e-02,  9.17923264e-03,  1.26738509e-03,\n",
       "        4.88198400e-02,  5.88575890e-03,  1.52172863e-01,  7.17193261e-02,\n",
       "       -5.68953194e-02,  7.17093125e-02,  8.41152743e-02, -6.47780765e-03,\n",
       "       -1.15817897e-02,  2.41268519e-02,  3.62859555e-02, -7.91282058e-02,\n",
       "       -1.00855120e-01,  2.61041075e-02, -4.93319705e-02, -2.08695326e-02,\n",
       "        3.92181650e-02, -5.02673909e-02,  7.35863671e-02, -1.29202858e-03,\n",
       "        4.95054461e-02, -2.63127647e-02,  5.11049703e-02, -2.26656087e-02,\n",
       "        4.43108082e-02,  6.19439175e-03,  7.39746029e-04,  2.02844106e-02,\n",
       "       -1.95522737e-02,  5.21748401e-02,  8.53601694e-02,  1.84734669e-02,\n",
       "       -1.00657353e-02,  7.13906577e-03,  2.15213690e-02, -1.57812703e-02,\n",
       "       -2.25810129e-02,  2.46513169e-02,  6.57254457e-02, -6.34804443e-02,\n",
       "        7.86637217e-02,  2.65320949e-02, -3.36430821e-04, -6.75930828e-02,\n",
       "       -8.79658982e-02,  2.79013012e-02, -3.62243727e-02, -4.64899763e-02,\n",
       "        2.88899764e-02, -2.91477609e-02, -1.09054290e-01,  3.61579880e-02,\n",
       "        8.51089414e-03, -4.81260419e-02, -1.56614278e-02,  2.96374541e-02,\n",
       "       -7.13723991e-03,  6.42550960e-02,  9.50163007e-02,  4.44228202e-02,\n",
       "       -2.26155482e-02,  9.61180106e-02, -5.22406958e-02,  3.90863512e-03,\n",
       "        2.93662660e-02, -3.25819589e-02, -3.57535556e-02,  4.80191819e-02,\n",
       "        2.07267869e-02,  1.22015672e-02, -7.78812990e-02, -5.12460023e-02,\n",
       "        1.09762382e-02, -4.97968644e-02, -3.07329204e-02,  3.20076384e-02,\n",
       "        2.95259394e-02, -2.04160921e-02,  2.81398222e-02, -2.85879858e-02,\n",
       "       -1.80541407e-02,  2.33008359e-02,  2.43525151e-02, -3.00045274e-02,\n",
       "        1.15074776e-03, -2.71996390e-02, -6.94702342e-02, -4.29039672e-02,\n",
       "        4.31029983e-02, -6.13648705e-02, -2.78833471e-02,  2.91477912e-33,\n",
       "        2.90059745e-02,  4.28947620e-02,  9.90397576e-03,  1.98585130e-02,\n",
       "       -1.10364147e-01,  1.10881003e-02,  4.66919839e-02,  1.32259754e-02,\n",
       "       -3.91479954e-03, -3.41177406e-03,  3.44344648e-04, -6.28780993e-03,\n",
       "       -2.80819274e-02,  9.54129100e-02,  5.03463149e-02, -1.14072626e-02,\n",
       "       -4.23060879e-02,  5.54079264e-02, -2.05411203e-02, -6.23686996e-04,\n",
       "       -1.00370251e-01,  2.07322724e-02, -8.14962611e-02,  2.01423410e-02,\n",
       "        4.32392843e-02, -5.99686317e-02, -8.62570386e-03,  4.77984361e-02,\n",
       "       -2.15204526e-02,  7.42732957e-02,  2.34156828e-02, -2.58500082e-03,\n",
       "        1.63135678e-02, -9.05232877e-03,  1.93406269e-02,  1.17055839e-02,\n",
       "       -3.01142652e-02,  1.95214842e-02, -2.08851974e-02,  8.60857815e-02,\n",
       "        1.83087196e-02, -8.59177671e-03,  1.28332572e-02,  1.55904982e-03,\n",
       "       -1.72437690e-02, -2.36981157e-02, -4.01754398e-03,  6.92420900e-02,\n",
       "       -4.33776695e-05,  6.45592855e-03, -6.06481126e-03, -4.04008068e-02,\n",
       "        1.40940826e-02, -7.05997348e-02,  3.37000797e-03, -3.59837674e-02,\n",
       "        9.59544480e-02, -1.97897926e-02, -1.46794431e-02, -8.99986252e-02,\n",
       "       -8.37592185e-02, -5.61997183e-02,  7.70972297e-02,  3.78691070e-02,\n",
       "       -4.98721153e-02, -3.57584357e-02, -8.27178583e-02,  3.64329629e-02,\n",
       "       -3.48015837e-02, -4.52602021e-02, -3.53724994e-02,  7.60166049e-02,\n",
       "       -8.72816425e-03, -2.15638224e-02, -6.57610148e-02, -5.23713752e-05,\n",
       "       -3.48797254e-02,  2.39531696e-02, -1.33781239e-01,  5.09806117e-03,\n",
       "        4.74187098e-02, -3.55160385e-02, -2.85668746e-02,  7.06292912e-02,\n",
       "       -7.39931092e-02,  9.57290679e-02,  5.56205735e-02, -2.98603978e-02,\n",
       "       -4.85656187e-02, -2.89298128e-02, -1.10768057e-01,  3.75382267e-02,\n",
       "        7.75345489e-02, -2.42952183e-02, -8.04037303e-02, -1.51319206e-08,\n",
       "       -4.49143611e-02, -8.35245401e-02,  4.25348319e-02, -3.71243805e-02,\n",
       "        1.66048447e-03,  1.36600822e-01, -6.29457086e-02,  2.39409152e-02,\n",
       "       -9.94675085e-02, -2.27416046e-02,  1.33597488e-02,  1.85056981e-02,\n",
       "        1.12613589e-02, -8.74275435e-03,  1.17422156e-02,  3.32223773e-02,\n",
       "        8.03553537e-02, -4.58112285e-02, -1.56142004e-02,  4.94965576e-02,\n",
       "        2.73975991e-02, -4.00967412e-02, -6.58260472e-03,  4.46061641e-02,\n",
       "        1.86894722e-02, -7.32670650e-02,  6.61422983e-02,  8.08041319e-02,\n",
       "        7.39883780e-02, -1.66449454e-02,  4.57196683e-03, -3.89126875e-02,\n",
       "       -2.67947074e-02, -5.19713238e-02, -2.39653252e-02, -9.55174584e-03,\n",
       "        8.63281339e-02, -4.89022918e-02, -1.92735642e-02, -3.59843336e-02,\n",
       "       -2.02014633e-02,  5.81100993e-02,  9.54442769e-02, -3.11776605e-02,\n",
       "       -4.77271751e-02,  2.23386865e-02,  2.26704460e-02, -9.17665213e-02,\n",
       "       -8.38397536e-03, -3.64390016e-02, -1.95743740e-02, -8.32704548e-03,\n",
       "       -6.90160319e-02, -3.20613831e-02,  5.70189878e-02,  6.14573359e-02,\n",
       "       -1.40048340e-01, -3.65565829e-02, -1.11857811e-02,  1.18040346e-01,\n",
       "       -9.94581059e-02,  4.37968299e-02,  3.78328958e-03,  4.30892110e-02],\n",
       "      dtype=float32)"
      ]
     },
     "execution_count": 5,
     "metadata": {},
     "output_type": "execute_result"
    }
   ],
   "source": [
    "query = \"What is the best way to learn programming?\"\n",
    "query_embedding = model.encode(query)\n",
    "query_embedding.shape\n",
    "query_embedding"
   ]
  },
  {
   "cell_type": "code",
   "execution_count": 6,
   "metadata": {},
   "outputs": [],
   "source": [
    "_id = 0\n",
    "\n",
    "metadata = {\n",
    "    'text': query,\n",
    "}\n",
    "\n",
    "vector = [(_id, query_embedding, metadata)]"
   ]
  },
  {
   "cell_type": "code",
   "execution_count": 9,
   "metadata": {},
   "outputs": [
    {
     "data": {
      "text/plain": [
       "<pinecone.control.pinecone.Pinecone at 0x14e536350>"
      ]
     },
     "execution_count": 9,
     "metadata": {},
     "output_type": "execute_result"
    }
   ],
   "source": [
    "import os\n",
    "from pinecone import Pinecone, ServerlessSpec\n",
    "\n",
    "api_key = os.getenv(\"PINECONE_API_KEY\")\n",
    "\n",
    "pc = Pinecone(api_key=api_key)\n",
    "\n",
    "pc"
   ]
  },
  {
   "cell_type": "code",
   "execution_count": 14,
   "metadata": {},
   "outputs": [],
   "source": [
    "index_name  = \"semantic-search\"\n",
    "\n",
    "if not pc.has_index(index_name):\n",
    "    pc.create_index(\n",
    "        name=index_name, \n",
    "        vector_type=\"dense\",\n",
    "        dimension=model.get_sentence_embedding_dimension(),\n",
    "        metric=\"cosine\",\n",
    "        spec=ServerlessSpec(\n",
    "            cloud=\"aws\",\n",
    "            region=\"us-east-1\"\n",
    "        )\n",
    "    )\n",
    "\n",
    "index = pc.Index(index_name)\n"
   ]
  },
  {
   "cell_type": "code",
   "execution_count": 16,
   "metadata": {},
   "outputs": [
    {
     "name": "stderr",
     "output_type": "stream",
     "text": [
      "100%|██████████| 151/151 [02:11<00:00,  1.15it/s]\n"
     ]
    },
    {
     "data": {
      "text/plain": [
       "{'dimension': 384,\n",
       " 'index_fullness': 0.0,\n",
       " 'metric': 'cosine',\n",
       " 'namespaces': {'': {'vector_count': 19840}},\n",
       " 'total_vector_count': 19840,\n",
       " 'vector_type': 'dense'}"
      ]
     },
     "execution_count": 16,
     "metadata": {},
     "output_type": "execute_result"
    }
   ],
   "source": [
    "from tqdm.auto import tqdm\n",
    "\n",
    "batch_size = 128\n",
    "\n",
    "for i in tqdm(range(0, len(questions), batch_size)):\n",
    "    \n",
    "    i_end = min(i + batch_size, len(questions))\n",
    "\n",
    "    ids = [str(x) for x in range(i, i_end)]\n",
    "    \n",
    "    metadata = [{'text': q} for q in questions[i:i_end]]\n",
    "\n",
    "    embeddings = model.encode(questions[i:i_end])\n",
    "\n",
    "    records = zip(ids, embeddings, metadata)\n",
    "\n",
    "    index.upsert(vectors=records)\n",
    "\n",
    "index.describe_index_stats()"
   ]
  },
  {
   "cell_type": "code",
   "execution_count": null,
   "metadata": {},
   "outputs": [
    {
     "data": {
      "text/plain": [
       "{\n",
       "    \"usage\": {\n",
       "        \"read_units\": 1\n",
       "    },\n",
       "    \"matches\": []\n",
       "}"
      ]
     },
     "execution_count": 40,
     "metadata": {},
     "output_type": "execute_result"
    }
   ],
   "source": [
    "query = \"How to install mac os on windows?\"\n",
    "\n",
    "query_embedding = model.encode(query).tolist()\n",
    "\n",
    "answer = index.query_namespaces(vector=query_embedding, \n",
    "                                namespaces=['(Default)'],\n",
    "                                metric=\"cosine\",\n",
    "                                top_k=5, \n",
    "                                include_metadata=True\n",
    "                                )\n",
    "\n",
    "answer"
   ]
  }
 ],
 "metadata": {
  "kernelspec": {
   "display_name": "Python 3",
   "language": "python",
   "name": "python3"
  },
  "language_info": {
   "codemirror_mode": {
    "name": "ipython",
    "version": 3
   },
   "file_extension": ".py",
   "mimetype": "text/x-python",
   "name": "python",
   "nbconvert_exporter": "python",
   "pygments_lexer": "ipython3",
   "version": "3.13.2"
  }
 },
 "nbformat": 4,
 "nbformat_minor": 2
}
